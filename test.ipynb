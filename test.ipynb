{
 "cells": [
  {
   "cell_type": "code",
   "execution_count": 11,
   "metadata": {},
   "outputs": [],
   "source": [
    "import torch\n",
    "from transformers import AutoModelForSequenceClassification, AutoTokenizer\n",
    "\n",
    "# 저장된 모델과 토크나이저 불러오기\n",
    "model = AutoModelForSequenceClassification.from_pretrained('./final_model')\n",
    "tokenizer = AutoTokenizer.from_pretrained('./final_model')"
   ]
  },
  {
   "cell_type": "code",
   "execution_count": 12,
   "metadata": {},
   "outputs": [
    {
     "name": "stdout",
     "output_type": "stream",
     "text": [
      "지금의 기분을 문장으로 표현하면? : 으아아악!!!\n",
      ">> 입력하신 내용에서 공포가 느껴집니다.\n"
     ]
    }
   ],
   "source": [
    "# 예시 입력 문장\n",
    "input_text = input(\"지금의 기분을 문장으로 표현하면? : \")\n",
    "\n",
    "print(f\"지금의 기분을 문장으로 표현하면? : {input_text}\")\n",
    "\n",
    "# 토큰화\n",
    "inputs = tokenizer(input_text, return_tensors=\"pt\", padding=True, truncation=True, max_length=512)\n",
    "\n",
    "# 모델을 평가 모드로 전환\n",
    "model.eval()\n",
    "\n",
    "# 입력을 모델에 전달하고 예측 결과 얻기\n",
    "with torch.no_grad():\n",
    "    outputs = model(**inputs)\n",
    "\n",
    "# 예측 결과\n",
    "logits = outputs.logits\n",
    "predicted_class = logits.argmax().item()\n",
    "\n",
    "mood = None\n",
    "\n",
    "if predicted_class == 0:\n",
    "    mood = \"공포가\"\n",
    "elif predicted_class == 1:\n",
    "    mood = \"놀람이\"\n",
    "elif predicted_class == 2:\n",
    "    mood = \"분노가\"\n",
    "elif predicted_class == 3:\n",
    "    mood = \"슬픔이\"\n",
    "elif predicted_class == 4:\n",
    "    mood = \"중립이\"\n",
    "elif predicted_class == 5:\n",
    "    mood = \"행복이\"\n",
    "elif predicted_class == 6:\n",
    "    mood = \"혐오가\"\n",
    "\n",
    "print(f\">> 입력하신 내용에서 {mood} 느껴집니다.\")"
   ]
  }
 ],
 "metadata": {
  "kernelspec": {
   "display_name": "Python 3",
   "language": "python",
   "name": "python3"
  },
  "language_info": {
   "codemirror_mode": {
    "name": "ipython",
    "version": 3
   },
   "file_extension": ".py",
   "mimetype": "text/x-python",
   "name": "python",
   "nbconvert_exporter": "python",
   "pygments_lexer": "ipython3",
   "version": "3.10.12"
  }
 },
 "nbformat": 4,
 "nbformat_minor": 2
}
